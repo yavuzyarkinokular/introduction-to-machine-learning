{
 "cells": [
  {
   "cell_type": "markdown",
   "metadata": {},
   "source": [
    "<a href=\"https://colab.research.google.com/github/globalaihub/introduction-to-machine-learning/blob/main/Linear%20Algebra/Linear_Algebra.ipynb\">\n",
    "  <img src=\"https://colab.research.google.com/assets/colab-badge.svg\" alt=\"Open In Colab\"/>\n",
    "</a>"
   ]
  },
  {
   "cell_type": "markdown",
   "metadata": {
    "id": "bf15tCVlEoqh"
   },
   "source": [
    "![](img/logo.png)"
   ]
  },
  {
   "cell_type": "markdown",
   "metadata": {
    "id": "VrIbtuS4Eoqj"
   },
   "source": [
    "<h5><center>All rights reserved ©️ Global AI Hub 2020</center></h5> "
   ]
  },
  {
   "cell_type": "markdown",
   "metadata": {
    "id": "q8svL2FUEoqj"
   },
   "source": [
    "# Linear Algebra Review"
   ]
  },
  {
   "cell_type": "markdown",
   "metadata": {
    "id": "9CvXqHtHEoqk"
   },
   "source": [
    "![](img/linear.png)"
   ]
  },
  {
   "cell_type": "markdown",
   "metadata": {
    "id": "CiRWYak3Eoqk"
   },
   "source": [
    "- **Scalar:**  Any single numerical value.\n",
    "- **Vector:** An array of numbers(data) is a vector. \n",
    "- **Matrix:** A matrix is a 2-D array of shape $(m×n)$ with m rows and n columns.\n",
    "- **Tensor:** Generally, an n-dimensional array where n>2 is called a Tensor. But a matrix or a vector is also a valid tensor."
   ]
  },
  {
   "cell_type": "markdown",
   "metadata": {},
   "source": [
    "![](img/conv_rgb.png)"
   ]
  },
  {
   "cell_type": "markdown",
   "metadata": {},
   "source": [
    "!pip install numpy ile çalışılan locale indirilebilir"
   ]
  },
  {
   "cell_type": "code",
   "execution_count": 5,
   "metadata": {
    "id": "PNp4ZvkmEoql"
   },
   "outputs": [],
   "source": [
    "import numpy as np"
   ]
  },
  {
   "cell_type": "markdown",
   "metadata": {
    "id": "Ljn54A0PEoqo"
   },
   "source": [
    "### Vektör Oluşturma"
   ]
  },
  {
   "cell_type": "markdown",
   "metadata": {},
   "source": [
    "ndim= dimension demektir vektörün boyutunu ayarlar ndim 2 ise 2 boyutludur"
   ]
  },
  {
   "cell_type": "code",
   "execution_count": 2,
   "metadata": {
    "colab": {
     "base_uri": "https://localhost:8080/",
     "height": 35
    },
    "id": "cViwMQZBEoqp",
    "outputId": "c4e9d558-5d85-4c91-f551-9fa46d1b24ca"
   },
   "outputs": [
    {
     "data": {
      "text/plain": [
       "array([[1, 2, 3, 4, 5]])"
      ]
     },
     "execution_count": 2,
     "metadata": {},
     "output_type": "execute_result"
    }
   ],
   "source": [
    "arr_1 = np.array([1,2,3,4,5],ndmin=2)\n",
    "arr_1"
   ]
  },
  {
   "cell_type": "markdown",
   "metadata": {},
   "source": [
    "en çok kullanılan fonksiyonlardandır type hangi tür olduğunu gösterir"
   ]
  },
  {
   "cell_type": "code",
   "execution_count": 3,
   "metadata": {
    "colab": {
     "base_uri": "https://localhost:8080/",
     "height": 70
    },
    "id": "Ao_Wzw91Eoqs",
    "outputId": "55d3af02-eb22-4f57-80b9-17922a09ebbf"
   },
   "outputs": [
    {
     "name": "stdout",
     "output_type": "stream",
     "text": [
      "Type: <class 'numpy.ndarray'>\n",
      "Shape: (1, 5)\n",
      "Dimension: 2\n"
     ]
    }
   ],
   "source": [
    "print(f\"Type: {type(arr_1)}\")\n",
    "print(f\"Shape: {arr_1.shape}\")\n",
    "print(f\"Dimension: {arr_1.ndim}\")"
   ]
  },
  {
   "cell_type": "markdown",
   "metadata": {
    "id": "hu32zcsKEoqv"
   },
   "source": [
    "### Matris Oluşturma"
   ]
  },
  {
   "cell_type": "code",
   "execution_count": 5,
   "metadata": {
    "colab": {
     "base_uri": "https://localhost:8080/",
     "height": 52
    },
    "id": "Az4Es5XOEoqw",
    "outputId": "38c31156-fb98-49e8-939a-1381b33e8ad4"
   },
   "outputs": [
    {
     "data": {
      "text/plain": [
       "array([[1, 2, 3, 4],\n",
       "       [5, 6, 7, 8]])"
      ]
     },
     "execution_count": 5,
     "metadata": {},
     "output_type": "execute_result"
    }
   ],
   "source": [
    "arr_2 = np.array([[1,2,3,4],\n",
    "                  [5,6,7,8]]) \n",
    "arr_2"
   ]
  },
  {
   "cell_type": "code",
   "execution_count": 6,
   "metadata": {
    "colab": {
     "base_uri": "https://localhost:8080/",
     "height": 70
    },
    "id": "WiraowZLEoqz",
    "outputId": "96989ebd-1b60-46c9-f256-abecfc65a4de"
   },
   "outputs": [
    {
     "name": "stdout",
     "output_type": "stream",
     "text": [
      "Type: <class 'numpy.ndarray'>\n",
      "Shape: (2, 4)\n",
      "Dimension: 2\n"
     ]
    }
   ],
   "source": [
    "print(f\"Type: {type(arr_2)}\")\n",
    "print(f\"Shape: {arr_2.shape}\")\n",
    "print(f\"Dimension: {arr_2.ndim}\")"
   ]
  },
  {
   "cell_type": "markdown",
   "metadata": {},
   "source": [
    ".shape kaçtane shape e sahip olduğunu öğrenmede kullanılır"
   ]
  },
  {
   "cell_type": "code",
   "execution_count": 3,
   "metadata": {},
   "outputs": [
    {
     "ename": "NameError",
     "evalue": "name 'np' is not defined",
     "output_type": "error",
     "traceback": [
      "\u001b[1;31m---------------------------------------------------------------------------\u001b[0m",
      "\u001b[1;31mNameError\u001b[0m                                 Traceback (most recent call last)",
      "\u001b[1;32m<ipython-input-3-d8d0e619c968>\u001b[0m in \u001b[0;36m<module>\u001b[1;34m\u001b[0m\n\u001b[0;32m      1\u001b[0m \u001b[1;31m#0lardan oluşan matris oluşturma\u001b[0m\u001b[1;33m\u001b[0m\u001b[1;33m\u001b[0m\u001b[1;33m\u001b[0m\u001b[0m\n\u001b[1;32m----> 2\u001b[1;33m \u001b[0mnp\u001b[0m\u001b[1;33m.\u001b[0m\u001b[0mzeros\u001b[0m\u001b[1;33m(\u001b[0m\u001b[1;33m(\u001b[0m\u001b[1;36m2\u001b[0m\u001b[1;33m,\u001b[0m\u001b[1;36m2\u001b[0m\u001b[1;33m)\u001b[0m\u001b[1;33m)\u001b[0m\u001b[1;33m\u001b[0m\u001b[1;33m\u001b[0m\u001b[0m\n\u001b[0m",
      "\u001b[1;31mNameError\u001b[0m: name 'np' is not defined"
     ]
    }
   ],
   "source": [
    "#0lardan oluşan matris oluşturma\n",
    "np.zeros((2,2))"
   ]
  },
  {
   "cell_type": "code",
   "execution_count": 13,
   "metadata": {},
   "outputs": [
    {
     "data": {
      "text/plain": [
       "array([[1., 1., 1.],\n",
       "       [1., 1., 1.]])"
      ]
     },
     "execution_count": 13,
     "metadata": {},
     "output_type": "execute_result"
    }
   ],
   "source": [
    "#Array with full 1's\n",
    "np.ones((2,3))"
   ]
  },
  {
   "cell_type": "code",
   "execution_count": 15,
   "metadata": {},
   "outputs": [
    {
     "data": {
      "text/plain": [
       "array([[1., 0., 0.],\n",
       "       [0., 1., 0.],\n",
       "       [0., 0., 1.]])"
      ]
     },
     "execution_count": 15,
     "metadata": {},
     "output_type": "execute_result"
    }
   ],
   "source": [
    "#Array with ones on the diagonal and zeros elsewhere\n",
    "np.eye(3)"
   ]
  },
  {
   "cell_type": "code",
   "execution_count": 9,
   "metadata": {},
   "outputs": [
    {
     "data": {
      "text/plain": [
       "array([0, 1, 2, 3, 4, 5, 6, 7, 8, 9])"
      ]
     },
     "execution_count": 9,
     "metadata": {},
     "output_type": "execute_result"
    }
   ],
   "source": [
    "#Return evenly spaced values within a given interval.\n",
    "np.arange(0, 10, 1) "
   ]
  },
  {
   "cell_type": "code",
   "execution_count": 10,
   "metadata": {},
   "outputs": [
    {
     "data": {
      "text/plain": [
       "array([2.  , 2.25, 2.5 , 2.75, 3.  ])"
      ]
     },
     "execution_count": 10,
     "metadata": {},
     "output_type": "execute_result"
    }
   ],
   "source": [
    "#Return evenly spaced numbers over a specified interval\n",
    "np.linspace(2, 3, 5)"
   ]
  },
  {
   "cell_type": "markdown",
   "metadata": {},
   "source": [
    ".ndim ile boyutunu öğrenebilir"
   ]
  },
  {
   "cell_type": "code",
   "execution_count": 6,
   "metadata": {},
   "outputs": [
    {
     "data": {
      "text/plain": [
       "array([[7, 7, 6, 7],\n",
       "       [5, 7, 6, 5],\n",
       "       [5, 9, 7, 5],\n",
       "       [9, 9, 9, 8]])"
      ]
     },
     "execution_count": 6,
     "metadata": {},
     "output_type": "execute_result"
    }
   ],
   "source": [
    "np.random.randint(5, 10, size= (4,4))"
   ]
  },
  {
   "cell_type": "markdown",
   "metadata": {},
   "source": [
    "5 le 10 arasında 4 e 4lük matris oluşturulur"
   ]
  },
  {
   "cell_type": "markdown",
   "metadata": {
    "id": "nXHAX7y5Eoq1"
   },
   "source": [
    "# Addition and Scalar Multiplication "
   ]
  },
  {
   "cell_type": "markdown",
   "metadata": {
    "id": "gW4wg1S9Eoq2"
   },
   "source": [
    "## Addition"
   ]
  },
  {
   "cell_type": "markdown",
   "metadata": {
    "id": "qkhyl2G9Eoq2"
   },
   "source": [
    " Two matrices may be added or subtracted only if they have the same dimension ( $ m_1$ x $n_1$ = $m_2$  x $n_2$ ); that is, they must have the same number of rows and columns. Addition or subtraction is accomplished by adding or subtracting corresponding elements.\n",
    "\n"
   ]
  },
  {
   "cell_type": "code",
   "execution_count": 7,
   "metadata": {
    "colab": {
     "base_uri": "https://localhost:8080/",
     "height": 248
    },
    "id": "K3J25dgJEoq3",
    "outputId": "e2aaaeb4-d64e-49d0-e39e-227ff22b5e47"
   },
   "outputs": [
    {
     "name": "stdout",
     "output_type": "stream",
     "text": [
      "Matrice_1: \n",
      "[[1 2 3 4]\n",
      " [5 6 7 8]\n",
      " [9 8 6 5]] \n",
      "\n",
      "Shape of Matrice 1: (3, 4)\n",
      "\n",
      "Matrice_2: \n",
      "[[-1  4  3  5]\n",
      " [ 1  4  7  9]\n",
      " [-6  5 11 -4]] \n",
      "\n",
      "Shape of Matrice 2: (3, 4)\n"
     ]
    }
   ],
   "source": [
    "matrice_1 = np.array([[1, 2, 3, 4], \n",
    "                      [5, 6, 7, 8], \n",
    "                      [9, 8, 6, 5]])\n",
    "\n",
    "matrice_2 = np.array([[-1, 4, 3, 5],\n",
    "                      [1, 4, 7, 9],\n",
    "                      [-6, 5, 11, -4]])\n",
    "\n",
    "print(f\"Matrice_1: \\n{matrice_1}\",\"\\n\")\n",
    "print(f\"Shape of Matrice 1: {matrice_1.shape}\")\n",
    "print(f\"\\nMatrice_2: \\n{matrice_2}\",\"\\n\")\n",
    "print(f\"Shape of Matrice 2: {matrice_2.shape}\")"
   ]
  },
  {
   "cell_type": "markdown",
   "metadata": {},
   "source": [
    "Hoca bastırırken f\" kullanıyor"
   ]
  },
  {
   "cell_type": "markdown",
   "metadata": {
    "id": "FoEH4I5-Eoq6"
   },
   "source": [
    "### Adding two matrices"
   ]
  },
  {
   "cell_type": "code",
   "execution_count": 8,
   "metadata": {
    "colab": {
     "base_uri": "https://localhost:8080/",
     "height": 70
    },
    "id": "bvT8Xe-JEoq7",
    "outputId": "db7f66c5-2de6-4007-cd5a-ee0f816e7e8e"
   },
   "outputs": [
    {
     "data": {
      "text/plain": [
       "array([[ 0,  6,  6,  9],\n",
       "       [ 6, 10, 14, 17],\n",
       "       [ 3, 13, 17,  1]])"
      ]
     },
     "execution_count": 8,
     "metadata": {},
     "output_type": "execute_result"
    }
   ],
   "source": [
    "matrice_1 + matrice_2"
   ]
  },
  {
   "cell_type": "code",
   "execution_count": 9,
   "metadata": {},
   "outputs": [
    {
     "data": {
      "text/plain": [
       "array([[ 2, -2,  0, -1],\n",
       "       [ 4,  2,  0, -1],\n",
       "       [15,  3, -5,  9]])"
      ]
     },
     "execution_count": 9,
     "metadata": {},
     "output_type": "execute_result"
    }
   ],
   "source": [
    "matrice_1 - matrice_2"
   ]
  },
  {
   "cell_type": "markdown",
   "metadata": {
    "id": "XV0SqgErEoq9"
   },
   "source": [
    "---"
   ]
  },
  {
   "cell_type": "markdown",
   "metadata": {},
   "source": [
    "## Stacking"
   ]
  },
  {
   "cell_type": "markdown",
   "metadata": {},
   "source": [
    "Tek bir matris elde etmek için gereken yaklaşımlar"
   ]
  },
  {
   "cell_type": "code",
   "execution_count": 5,
   "metadata": {},
   "outputs": [
    {
     "name": "stdout",
     "output_type": "stream",
     "text": [
      "[[1 2 3]\n",
      " [4 5 6]]\n",
      "[[6 5 4]\n",
      " [3 2 1]]\n"
     ]
    }
   ],
   "source": [
    "st1 = np.array([[1,2,3],\n",
    "                [4,5,6]])\n",
    "\n",
    "st2 = np.array([[6,5,4], \n",
    "                [3,2,1]])\n",
    "print(st1)\n",
    "print(st2)"
   ]
  },
  {
   "cell_type": "code",
   "execution_count": 7,
   "metadata": {},
   "outputs": [
    {
     "data": {
      "text/plain": [
       "array([[1, 2, 3],\n",
       "       [4, 5, 6],\n",
       "       [6, 5, 4],\n",
       "       [3, 2, 1]])"
      ]
     },
     "execution_count": 7,
     "metadata": {},
     "output_type": "execute_result"
    }
   ],
   "source": [
    "np.vstack((st1,st2)) #vertical stacking"
   ]
  },
  {
   "cell_type": "code",
   "execution_count": 8,
   "metadata": {},
   "outputs": [
    {
     "data": {
      "text/plain": [
       "array([[1, 2, 3, 6, 5, 4],\n",
       "       [4, 5, 6, 3, 2, 1]])"
      ]
     },
     "execution_count": 8,
     "metadata": {},
     "output_type": "execute_result"
    }
   ],
   "source": [
    "np.hstack((st1,st2)) #vertical stacking"
   ]
  },
  {
   "cell_type": "markdown",
   "metadata": {
    "id": "pVDK5TrSEoq9"
   },
   "source": [
    "## Multiplication"
   ]
  },
  {
   "cell_type": "markdown",
   "metadata": {
    "id": "tHBac_SaEoq-"
   },
   "source": [
    "### Scalar Multiplication"
   ]
  },
  {
   "cell_type": "markdown",
   "metadata": {
    "id": "0QL9SKeaEoq-"
   },
   "source": [
    " The term scalar multiplication refers to the product of a real number and a matrix. In scalar multiplication, each entry in the matrix is multiplied by the given scalar."
   ]
  },
  {
   "cell_type": "code",
   "execution_count": 11,
   "metadata": {
    "colab": {
     "base_uri": "https://localhost:8080/",
     "height": 70
    },
    "id": "K5fgYct3Eoq-",
    "outputId": "dd24ce18-272e-466d-e60a-df2157fff632"
   },
   "outputs": [
    {
     "data": {
      "text/plain": [
       "array([[ -1,   8,   9,  20],\n",
       "       [  5,  24,  49,  72],\n",
       "       [-54,  40,  66, -20]])"
      ]
     },
     "execution_count": 11,
     "metadata": {},
     "output_type": "execute_result"
    }
   ],
   "source": [
    "matrice3 = matrice_1 * matrice_2\n",
    "matrice3"
   ]
  },
  {
   "cell_type": "markdown",
   "metadata": {},
   "source": [
    "Köşeli parantez sayısını arttırmak dimension ı arttırmaktır aslında"
   ]
  },
  {
   "cell_type": "markdown",
   "metadata": {
    "id": "KN_oC5TqEorC"
   },
   "source": [
    "### Matrix-Vector Multiplication "
   ]
  },
  {
   "cell_type": "markdown",
   "metadata": {
    "id": "vffZaAAIEorC"
   },
   "source": [
    " Multiplication between a matrix \"M\" and a vector \"v\", we need to view the vector as a column matrix. We define the matrix-vector product only for the case when the number of columns in M equals the number of rows in v. So, if M is an m×n matrix (i.e., with n columns), then the product $M.v$ is defined for $n$ × $1$ column vectors x. If we let $M.v=r$, then $r$ is an $m$ x $1$ column vector. \n",
    "\n",
    " $$ (m\\;,\\;n)\\;\\;.\\;(n\\;,\\;1) = (m\\;,\\;1) $$"
   ]
  },
  {
   "cell_type": "markdown",
   "metadata": {},
   "source": []
  },
  {
   "cell_type": "code",
   "execution_count": 13,
   "metadata": {
    "colab": {
     "base_uri": "https://localhost:8080/",
     "height": 52
    },
    "id": "SDRAq70xEorC",
    "outputId": "a843336c-b7a2-4b51-f991-f351523becda"
   },
   "outputs": [
    {
     "name": "stdout",
     "output_type": "stream",
     "text": [
      "Shape of matrix M = (3, 3) \n",
      " Shape of vector v = (3,)\n"
     ]
    }
   ],
   "source": [
    "M = np.array([[ 6, 1 ,3], \n",
    "              [ -1, 1 ,1], \n",
    "              [ 1, 3 ,2]])\n",
    "\n",
    "#Rank 1 array\n",
    "v = np.array([1, 2, 3])\n",
    "\n",
    "print(f\"Shape of matrix M = {M.shape}\",\"\\n\",f\"Shape of vector v = {v.shape}\")"
   ]
  },
  {
   "cell_type": "markdown",
   "metadata": {},
   "source": [
    "İlk değerin sütun sayısı ikinci değerin satır sayısına eşit olmalı"
   ]
  },
  {
   "cell_type": "markdown",
   "metadata": {
    "id": "tyLcx6rBEorF"
   },
   "source": [
    "#### Option 1:"
   ]
  },
  {
   "cell_type": "code",
   "execution_count": 11,
   "metadata": {},
   "outputs": [
    {
     "data": {
      "text/plain": [
       "17"
      ]
     },
     "execution_count": 11,
     "metadata": {},
     "output_type": "execute_result"
    }
   ],
   "source": [
    "6*1 + 1*2 + 3*3"
   ]
  },
  {
   "cell_type": "code",
   "execution_count": 14,
   "metadata": {
    "colab": {
     "base_uri": "https://localhost:8080/",
     "height": 35
    },
    "id": "16x8wmcuEorF",
    "outputId": "4869b4ab-8ea8-48e1-8c89-5e98dfaaf7d8"
   },
   "outputs": [
    {
     "data": {
      "text/plain": [
       "array([17,  4, 13])"
      ]
     },
     "execution_count": 14,
     "metadata": {},
     "output_type": "execute_result"
    }
   ],
   "source": [
    "M.dot(v)"
   ]
  },
  {
   "cell_type": "markdown",
   "metadata": {},
   "source": [
    "#### Dot Production Hesabı "
   ]
  },
  {
   "cell_type": "markdown",
   "metadata": {
    "id": "hUZ5F8EIEorI"
   },
   "source": [
    "#### Option 2:"
   ]
  },
  {
   "cell_type": "code",
   "execution_count": 12,
   "metadata": {
    "colab": {
     "base_uri": "https://localhost:8080/",
     "height": 35
    },
    "id": "T-arc6Q8EorI",
    "outputId": "19336582-670d-40ee-d6c9-6084076ce85a"
   },
   "outputs": [
    {
     "data": {
      "text/plain": [
       "array([17,  4, 13])"
      ]
     },
     "execution_count": 12,
     "metadata": {},
     "output_type": "execute_result"
    }
   ],
   "source": [
    "np.dot(M,v)"
   ]
  },
  {
   "cell_type": "markdown",
   "metadata": {
    "id": "zVo3plssEorK"
   },
   "source": [
    "### Matrix-Matrix Multiplication "
   ]
  },
  {
   "cell_type": "markdown",
   "metadata": {
    "id": "IEzl_dSIEorK"
   },
   "source": [
    "Matrix-Matrix multiplication,  the number of columns in the first matrix must be equal to the number of rows in the second matrix. The resulting matrix, known as the matrix product, has the number of rows of the first and the number of columns of the second matrix.\n",
    "\n",
    "$$ n_1 = m_2$$\n"
   ]
  },
  {
   "cell_type": "code",
   "execution_count": 14,
   "metadata": {},
   "outputs": [],
   "source": [
    "db = np.array([[-1, 4, 3, 5],\n",
    "              [1, 4, 7, 9],\n",
    "              [-6, 5, 11, -4]])\n"
   ]
  },
  {
   "cell_type": "code",
   "execution_count": 16,
   "metadata": {
    "colab": {
     "base_uri": "https://localhost:8080/",
     "height": 52
    },
    "id": "bXA0BKPLEorL",
    "outputId": "4356a204-5158-4dfa-9466-16ca06eecf6e",
    "scrolled": true
   },
   "outputs": [
    {
     "name": "stdout",
     "output_type": "stream",
     "text": [
      "Shape of matrix C = (3, 4) \n",
      " Shape of matrix D = (4, 3)\n",
      "[[-1  4  3]\n",
      " [ 5  1  4]\n",
      " [ 7  9 -6]\n",
      " [ 5 11 -4]]\n"
     ]
    }
   ],
   "source": [
    "C = np.array([[1, 2, 3, 4],\n",
    "              [5, 6, 7, 8],\n",
    "              [9, 8, 6, 5]])\n",
    "\n",
    "D = np.array([[-1, 4, 3, 5],\n",
    "              [1, 4, 7, 9],\n",
    "              [-6, 5, 11, -4]]).reshape(4,3)\n",
    "\n",
    "print(f\"Shape of matrix C = {C.shape}\",\"\\n\",f\"Shape of matrix D = {D.shape}\")\n",
    "print(D)"
   ]
  },
  {
   "cell_type": "markdown",
   "metadata": {},
   "source": [
    "#### Çaprım sonucu matrisin boyutu"
   ]
  },
  {
   "cell_type": "markdown",
   "metadata": {},
   "source": [
    "Çarpım sonucu ilk değişkenin satır sayısı ikincinin sütun sayısı kadar bir matris oluşturulur"
   ]
  },
  {
   "cell_type": "markdown",
   "metadata": {},
   "source": [
    "#### reshape fonksiyonun burada kullanılma sebebi"
   ]
  },
  {
   "cell_type": "markdown",
   "metadata": {},
   "source": [
    "Birinci değerin sütun sayısını ikincinin satır sayısına eşitliyor ki çarpma işlemi gerçekleşsin"
   ]
  },
  {
   "cell_type": "code",
   "execution_count": 17,
   "metadata": {
    "colab": {
     "base_uri": "https://localhost:8080/",
     "height": 70
    },
    "id": "6kzkltUSEorN",
    "outputId": "72e657cf-af21-41d0-9663-ba949eb080a3"
   },
   "outputs": [
    {
     "data": {
      "text/plain": [
       "array([[ 50,  77, -23],\n",
       "       [114, 177, -35],\n",
       "       [ 98, 153,   3]])"
      ]
     },
     "execution_count": 17,
     "metadata": {},
     "output_type": "execute_result"
    }
   ],
   "source": [
    "C.dot(D)"
   ]
  },
  {
   "cell_type": "code",
   "execution_count": 18,
   "metadata": {
    "colab": {
     "base_uri": "https://localhost:8080/",
     "height": 70
    },
    "id": "-FTm0NADEorP",
    "outputId": "66bc24b1-e2da-4278-b132-8ea4dc344700"
   },
   "outputs": [
    {
     "data": {
      "text/plain": [
       "array([[ 50,  77, -23],\n",
       "       [114, 177, -35],\n",
       "       [ 98, 153,   3]])"
      ]
     },
     "execution_count": 18,
     "metadata": {},
     "output_type": "execute_result"
    }
   ],
   "source": [
    "np.dot(C,D)"
   ]
  },
  {
   "cell_type": "code",
   "execution_count": 19,
   "metadata": {},
   "outputs": [
    {
     "data": {
      "text/plain": [
       "array([[46, 46, 43, 43],\n",
       "       [46, 48, 46, 48],\n",
       "       [-2, 20, 48, 70],\n",
       "       [24, 44, 68, 88]])"
      ]
     },
     "execution_count": 19,
     "metadata": {},
     "output_type": "execute_result"
    }
   ],
   "source": [
    "np.dot(D,C)"
   ]
  },
  {
   "cell_type": "markdown",
   "metadata": {
    "id": "ncrKTCv7EorV"
   },
   "source": [
    "## Matrix Multiplication Properties"
   ]
  },
  {
   "cell_type": "markdown",
   "metadata": {
    "id": "hRgUcHmQEorV"
   },
   "source": [
    "1. The commutative property of multiplication $AB \\neq BA$\n",
    "\n",
    "2. Associative property of multiplication     $(AB)C =  A(BC)$\n",
    "\n",
    "3. Distributive properties                    $A(B+C) =  AB+AC$\n",
    "\n",
    "4. Multiplicative identity property           $ IA =A\\, \\& \\,  AI=A$\n",
    "\n",
    "5. Multiplicative property of zero            $ I0 =0  \\, \\&  \\,  A0=0$\n",
    "\n",
    "6. Dimension property"
   ]
  },
  {
   "cell_type": "markdown",
   "metadata": {},
   "source": [
    "Çaprtığın zaman kendi değerini verendir identify property"
   ]
  },
  {
   "cell_type": "markdown",
   "metadata": {
    "id": "w2anp9PQEorW"
   },
   "source": [
    "# Inverse and Transpose"
   ]
  },
  {
   "cell_type": "markdown",
   "metadata": {
    "id": "IHCTLSUpEorW"
   },
   "source": [
    "## Inverse"
   ]
  },
  {
   "cell_type": "markdown",
   "metadata": {
    "id": "Wp-bJiKnEorX"
   },
   "source": [
    "In linear algebra, an n-by-n square matrix A is called invertible (also nonsingular or nondegenerate), if there exists an n-by-n square matrix B such that\n",
    "\n",
    "$ AB=BA=I $ where In denotes the n-by-n identity matrix and the multiplication used is ordinary matrix multiplication. If this is the case, then the matrix B is uniquely determined by A, and is called the (multiplicative) inverse of A, denoted by A−1.\n",
    "\n",
    " $$A\\;.\\; A^{-1} = I $$\n",
    "Where:  \n",
    "$I$: Identity Matrix  \n",
    "Shape A: $ (n,n)$ "
   ]
  },
  {
   "cell_type": "code",
   "execution_count": 18,
   "metadata": {
    "colab": {
     "base_uri": "https://localhost:8080/",
     "height": 70
    },
    "id": "pvHq_cv6RBCn",
    "outputId": "ee88e630-ed95-42fa-fc79-1344db14b219"
   },
   "outputs": [
    {
     "data": {
      "text/plain": [
       "array([[1., 0., 0.],\n",
       "       [0., 1., 0.],\n",
       "       [0., 0., 1.]])"
      ]
     },
     "execution_count": 18,
     "metadata": {},
     "output_type": "execute_result"
    }
   ],
   "source": [
    "#Example of identity matrix with 3 x 3 dimension\n",
    "np.identity(3)"
   ]
  },
  {
   "cell_type": "code",
   "execution_count": 20,
   "metadata": {
    "id": "8SvZ5NFnEorX"
   },
   "outputs": [],
   "source": [
    "x = np.array([[6, 9],\n",
    "              [12, 17]])\n",
    "\n",
    "y = np.array([[8, 5],\n",
    "              [1, 2]])"
   ]
  },
  {
   "cell_type": "markdown",
   "metadata": {},
   "source": []
  },
  {
   "cell_type": "code",
   "execution_count": 21,
   "metadata": {
    "id": "oeaaSv9SEorZ"
   },
   "outputs": [
    {
     "data": {
      "text/plain": [
       "array([[-2.83333333,  1.5       ],\n",
       "       [ 2.        , -1.        ]])"
      ]
     },
     "execution_count": 21,
     "metadata": {},
     "output_type": "execute_result"
    }
   ],
   "source": [
    "x_inv = np.linalg.inv(x)\n",
    "x_inv"
   ]
  },
  {
   "cell_type": "code",
   "execution_count": 23,
   "metadata": {
    "colab": {
     "base_uri": "https://localhost:8080/",
     "height": 52
    },
    "id": "F-nZz--VP7T4",
    "outputId": "a28c2018-5ae0-4b4d-a294-0a05443e11fd"
   },
   "outputs": [
    {
     "data": {
      "text/plain": [
       "array([[1., 0.],\n",
       "       [0., 1.]])"
      ]
     },
     "execution_count": 23,
     "metadata": {},
     "output_type": "execute_result"
    }
   ],
   "source": [
    "x.dot(x_inv)"
   ]
  },
  {
   "cell_type": "code",
   "execution_count": 24,
   "metadata": {},
   "outputs": [
    {
     "data": {
      "text/plain": [
       "array([[-0.05852843,  0.18561873, -0.21906355],\n",
       "       [-0.03344482, -0.0367893 ,  0.16053512],\n",
       "       [ 0.1270903 , -0.06020067, -0.01003344]])"
      ]
     },
     "execution_count": 24,
     "metadata": {},
     "output_type": "execute_result"
    }
   ],
   "source": [
    "a = np.array([[6, 9 ,13],\n",
    "              [12, 17 ,10],\n",
    "              [4,12,5]])\n",
    "\n",
    "a_inv = np.linalg.inv(a)\n",
    "a_inv"
   ]
  },
  {
   "cell_type": "code",
   "execution_count": 25,
   "metadata": {},
   "outputs": [
    {
     "data": {
      "text/plain": [
       "array([[ 1.00000000e+00, -7.63278329e-17, -9.02056208e-17],\n",
       "       [-5.55111512e-17,  1.00000000e+00, -6.93889390e-17],\n",
       "       [-2.77555756e-17,  3.46944695e-17,  1.00000000e+00]])"
      ]
     },
     "execution_count": 25,
     "metadata": {},
     "output_type": "execute_result"
    }
   ],
   "source": [
    "np.dot(a,a_inv)"
   ]
  },
  {
   "cell_type": "markdown",
   "metadata": {
    "id": "BTOGBPgeEord"
   },
   "source": [
    "## Transpose"
   ]
  },
  {
   "cell_type": "markdown",
   "metadata": {
    "id": "22WuaRLnEord"
   },
   "source": [
    "In linear algebra, the transpose of a matrix is an operator which flips a matrix over its diagonal; that is, it switches the row and column indices of the matrix $A$ by producing another matrix, often denoted by $A^T$(among other notations).\n",
    "\n",
    "If matrix A's shape is $(n,m)$, then shape of $A^T$ will be shape of $(m,n)$"
   ]
  },
  {
   "cell_type": "code",
   "execution_count": 22,
   "metadata": {
    "colab": {
     "base_uri": "https://localhost:8080/",
     "height": 52
    },
    "id": "5WK1OEQDEord",
    "outputId": "54db8416-1fa2-4eda-e64e-8f4f8f55a9eb"
   },
   "outputs": [
    {
     "data": {
      "text/plain": [
       "array([[ 6,  9],\n",
       "       [12, 17]])"
      ]
     },
     "execution_count": 22,
     "metadata": {},
     "output_type": "execute_result"
    }
   ],
   "source": [
    "x"
   ]
  },
  {
   "cell_type": "code",
   "execution_count": 23,
   "metadata": {
    "colab": {
     "base_uri": "https://localhost:8080/",
     "height": 52
    },
    "id": "989rBTm7Eorf",
    "outputId": "c6762853-0c18-43a7-9e09-b8c6eea471a9"
   },
   "outputs": [
    {
     "data": {
      "text/plain": [
       "array([[ 6, 12],\n",
       "       [ 9, 17]])"
      ]
     },
     "execution_count": 23,
     "metadata": {},
     "output_type": "execute_result"
    }
   ],
   "source": [
    "x_trans = x.T\n",
    "x_trans"
   ]
  },
  {
   "cell_type": "code",
   "execution_count": 37,
   "metadata": {
    "colab": {
     "base_uri": "https://localhost:8080/",
     "height": 159
    },
    "id": "0nfN6Dq8Eori",
    "outputId": "645541ae-1d0b-42d6-b63d-17e6c8db32aa"
   },
   "outputs": [
    {
     "name": "stdout",
     "output_type": "stream",
     "text": [
      "Matrice: \n",
      "[[4 3 1]\n",
      " [5 2 7]\n",
      " [7 9 4]\n",
      " [1 8 9]\n",
      " [8 6 1]]\n",
      "\n",
      "Shape: (5, 3)\n"
     ]
    }
   ],
   "source": [
    "A = np.random.randint(1, 10, size=(5, 3))\n",
    "\n",
    "print(f\"Matrice: \\n{A}\")\n",
    "print(f\"\\nShape: {A.shape}\")"
   ]
  },
  {
   "cell_type": "code",
   "execution_count": 49,
   "metadata": {
    "colab": {
     "base_uri": "https://localhost:8080/",
     "height": 159
    },
    "id": "s5CBacjkSOGj",
    "outputId": "196467e0-b123-4f59-9d9e-2885aff1e180"
   },
   "outputs": [
    {
     "name": "stdout",
     "output_type": "stream",
     "text": [
      "Matrice: \n",
      "[[7 2 3]\n",
      " [4 4 1]\n",
      " [7 2 5]\n",
      " [6 3 7]\n",
      " [1 6 9]]\n",
      "\n",
      "Shape: (5, 3)\n"
     ]
    }
   ],
   "source": [
    "## Seed\n",
    "np.random.seed(12)\n",
    "\n",
    "A = np.random.randint(1, 10, size=(5, 3))\n",
    "\n",
    "print(f\"Matrice: \\n{A}\")\n",
    "print(f\"\\nShape: {A.shape}\")"
   ]
  },
  {
   "cell_type": "markdown",
   "metadata": {},
   "source": [
    "#### Seed in kullanılma sebebi"
   ]
  },
  {
   "cell_type": "markdown",
   "metadata": {},
   "source": [
    ".seed() aslında sizin ilk çalıştırdığınız değeri sabit tutuyor "
   ]
  },
  {
   "cell_type": "code",
   "execution_count": 8,
   "metadata": {},
   "outputs": [
    {
     "name": "stdout",
     "output_type": "stream",
     "text": [
      "[[3 3 7]\n",
      " [2 4 7]\n",
      " [2 1 2]\n",
      " [1 1 4]\n",
      " [5 1 1]]\n",
      "[[85 66 72]\n",
      " [84 19 56]\n",
      " [83 64 78]\n",
      " [65 24 69]\n",
      " [44 51 93]]\n"
     ]
    },
    {
     "data": {
      "text/plain": [
       "array([[88, 69, 79],\n",
       "       [86, 23, 63],\n",
       "       [85, 65, 80],\n",
       "       [66, 25, 73],\n",
       "       [49, 52, 94]])"
      ]
     },
     "execution_count": 8,
     "metadata": {},
     "output_type": "execute_result"
    }
   ],
   "source": [
    "np.random.seed(123)\n",
    "\n",
    "A = np.random.randint(1, 10, size=(5, 3))\n",
    "\n",
    "B = np.random.randint(17, 100, size=(5, 3))\n",
    "\n",
    "print(A)\n",
    "print(B)\n",
    "A + B"
   ]
  },
  {
   "cell_type": "code",
   "execution_count": 9,
   "metadata": {
    "colab": {
     "base_uri": "https://localhost:8080/",
     "height": 124
    },
    "id": "3196zyn2Eork",
    "outputId": "4cee206e-b4f0-4fd3-ee9a-26591c8c55f4"
   },
   "outputs": [
    {
     "name": "stdout",
     "output_type": "stream",
     "text": [
      "Intial Matrice Shape: (5, 3)\n",
      "Matrice:  \n",
      "[[3 2 2 1 5]\n",
      " [3 4 1 1 1]\n",
      " [7 7 2 4 1]]\n",
      "\n",
      "Shape: (3, 5)\n"
     ]
    }
   ],
   "source": [
    "A_t = A.T\n",
    "\n",
    "print(f\"Intial Matrice Shape: {A.shape}\")\n",
    "print(f\"Matrice:  \\n{A_t}\")\n",
    "print(f\"\\nShape: {A_t.shape}\")"
   ]
  },
  {
   "cell_type": "code",
   "execution_count": null,
   "metadata": {},
   "outputs": [],
   "source": []
  }
 ],
 "metadata": {
  "colab": {
   "collapsed_sections": [],
   "name": "Linear_Algebra.ipynb",
   "provenance": []
  },
  "kernelspec": {
   "display_name": "Python 3",
   "language": "python",
   "name": "python3"
  },
  "language_info": {
   "codemirror_mode": {
    "name": "ipython",
    "version": 3
   },
   "file_extension": ".py",
   "mimetype": "text/x-python",
   "name": "python",
   "nbconvert_exporter": "python",
   "pygments_lexer": "ipython3",
   "version": "3.8.5"
  }
 },
 "nbformat": 4,
 "nbformat_minor": 4
}
